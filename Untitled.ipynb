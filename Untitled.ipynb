{
 "cells": [
  {
   "cell_type": "code",
   "execution_count": 25,
   "id": "6c0ee0bd",
   "metadata": {},
   "outputs": [
    {
     "ename": "NameError",
     "evalue": "name 'aliashhar3' is not defined",
     "output_type": "error",
     "traceback": [
      "\u001b[1;31m---------------------------------------------------------------------------\u001b[0m",
      "\u001b[1;31mNameError\u001b[0m                                 Traceback (most recent call last)",
      "Cell \u001b[1;32mIn[25], line 21\u001b[0m\n\u001b[0;32m     12\u001b[0m \u001b[38;5;28;01mif\u001b[39;00m \u001b[38;5;18m__name__\u001b[39m \u001b[38;5;241m==\u001b[39m \u001b[38;5;124m'\u001b[39m\u001b[38;5;124m__main__\u001b[39m\u001b[38;5;124m'\u001b[39m:\n\u001b[0;32m     13\u001b[0m     \n\u001b[0;32m     14\u001b[0m     \u001b[38;5;66;03m#email = \"rohit.gupta@mcnsolutions.net\"\u001b[39;00m\n\u001b[1;32m   (...)\u001b[0m\n\u001b[0;32m     17\u001b[0m  \u001b[38;5;66;03m#   email = \"praveen@c-sharpcorner.com\"\u001b[39;00m\n\u001b[0;32m     18\u001b[0m   \u001b[38;5;66;03m#  check(email)   \u001b[39;00m\n\u001b[0;32m     20\u001b[0m     email \u001b[38;5;241m=\u001b[39m \u001b[38;5;124m'\u001b[39m\u001b[38;5;124maliashhar3@gmail.com\u001b[39m\u001b[38;5;124m'\u001b[39m\n\u001b[1;32m---> 21\u001b[0m     \u001b[43mcheck\u001b[49m\u001b[43m(\u001b[49m\u001b[43memail\u001b[49m\u001b[43m)\u001b[49m\n",
      "Cell \u001b[1;32mIn[25], line 6\u001b[0m, in \u001b[0;36mcheck\u001b[1;34m(email)\u001b[0m\n\u001b[0;32m      4\u001b[0m \u001b[38;5;28;01mdef\u001b[39;00m \u001b[38;5;21mcheck\u001b[39m(email):\n\u001b[1;32m----> 6\u001b[0m     \u001b[38;5;28;01mif\u001b[39;00m(re\u001b[38;5;241m.\u001b[39msearch(regex,\u001b[38;5;28;43meval\u001b[39;49m\u001b[43m(\u001b[49m\u001b[43memail\u001b[49m\u001b[43m)\u001b[49m)):   \n\u001b[0;32m      7\u001b[0m         \u001b[38;5;28mprint\u001b[39m(email)\n\u001b[0;32m      8\u001b[0m         \u001b[38;5;28mprint\u001b[39m(\u001b[38;5;124m\"\u001b[39m\u001b[38;5;124mValid Email\u001b[39m\u001b[38;5;124m\"\u001b[39m)   \n",
      "File \u001b[1;32m<string>:1\u001b[0m\n",
      "\u001b[1;31mNameError\u001b[0m: name 'aliashhar3' is not defined"
     ]
    }
   ],
   "source": [
    "import re\n",
    "regex = '^[a-z0-9]+[\\._]?[a-z0-9]+[@]\\w+[.]\\w{2,3}$'  \n",
    "  \n",
    "def check(email):\n",
    "  \n",
    "    if(re.search(regex,eval(email))):   \n",
    "        print(email)\n",
    "        print(\"Valid Email\")   \n",
    "    else:   \n",
    "        print(\"Invalid Email\")   \n",
    "      \n",
    "if __name__ == '__main__':\n",
    "    \n",
    "    #email = \"rohit.gupta@mcnsolutions.net\"\n",
    "    #check(email)   \n",
    "  \n",
    " #   email = \"praveen@c-sharpcorner.com\"\n",
    "  #  check(email)   \n",
    "  \n",
    "    email = 'aliashhar3@gmail.com'\n",
    "    check(email)"
   ]
  },
  {
   "cell_type": "code",
   "execution_count": 27,
   "id": "6010819d",
   "metadata": {},
   "outputs": [],
   "source": [
    "#from email_validator import validate_email, EmailNotValidError\n",
    "import glob,re,json\n",
    "regex = r'\\b[A-Za-z0-9._%+-]+@[A-Za-z0-9.-]+\\.[A-Z|a-z]{2,}\\b'\n"
   ]
  },
  {
   "cell_type": "code",
   "execution_count": 40,
   "id": "099ab9a3",
   "metadata": {},
   "outputs": [
    {
     "name": "stdout",
     "output_type": "stream",
     "text": [
      "started check.py\n",
      "started file.py\n",
      "started orginal.py\n",
      "started pylin.py\n"
     ]
    },
    {
     "ename": "AttributeError",
     "evalue": "'list' object has no attribute 'strip'",
     "output_type": "error",
     "traceback": [
      "\u001b[1;31m---------------------------------------------------------------------------\u001b[0m",
      "\u001b[1;31mAttributeError\u001b[0m                            Traceback (most recent call last)",
      "Cell \u001b[1;32mIn[40], line 10\u001b[0m\n\u001b[0;32m      7\u001b[0m         \u001b[38;5;28;01mfor\u001b[39;00m word \u001b[38;5;129;01min\u001b[39;00m file\u001b[38;5;241m.\u001b[39mread()\u001b[38;5;241m.\u001b[39msplit():\n\u001b[0;32m      8\u001b[0m             word_\u001b[38;5;241m.\u001b[39mappend(word\u001b[38;5;241m.\u001b[39mlower())\n\u001b[1;32m---> 10\u001b[0m \u001b[38;5;28;01mif\u001b[39;00m re\u001b[38;5;241m.\u001b[39mmatch(regex, \u001b[43mword_\u001b[49m\u001b[38;5;241;43m.\u001b[39;49m\u001b[43mstrip\u001b[49m(\u001b[38;5;124m\"\u001b[39m\u001b[38;5;130;01m\\'\u001b[39;00m\u001b[38;5;124m\"\u001b[39m)):\n\u001b[0;32m     11\u001b[0m \t\u001b[38;5;28mprint\u001b[39m(word, \u001b[38;5;124m'\u001b[39m\u001b[38;5;124mfound in file\u001b[39m\u001b[38;5;124m'\u001b[39m, i)\n",
      "\u001b[1;31mAttributeError\u001b[0m: 'list' object has no attribute 'strip'"
     ]
    }
   ],
   "source": [
    "word_=[]\n",
    "\n",
    "for i in glob.iglob('*.py'):\n",
    "    print('started', i)\n",
    "    with open(i, 'r') as file:\n",
    "\n",
    "        for word in file.read().split():\n",
    "            word_.append(word.lower())\n",
    "            \n",
    "if re.match(regex, word_.strip(\"\\'\")):\n",
    "\tprint(word, 'found in file', i)\n"
   ]
  },
  {
   "cell_type": "code",
   "execution_count": 38,
   "id": "85141f6f",
   "metadata": {},
   "outputs": [
    {
     "ename": "SyntaxError",
     "evalue": "invalid syntax (1530047013.py, line 1)",
     "output_type": "error",
     "traceback": [
      "\u001b[1;36m  Cell \u001b[1;32mIn[38], line 1\u001b[1;36m\u001b[0m\n\u001b[1;33m    email = ''aliashhar3@gmail.com''\u001b[0m\n\u001b[1;37m              ^\u001b[0m\n\u001b[1;31mSyntaxError\u001b[0m\u001b[1;31m:\u001b[0m invalid syntax\n"
     ]
    }
   ],
   "source": [
    "email = ''aliashhar3@gmail.com''\n",
    "print(re.match(regex, email))"
   ]
  }
 ],
 "metadata": {
  "kernelspec": {
   "display_name": "ml_env",
   "language": "python",
   "name": "ml_env"
  },
  "language_info": {
   "codemirror_mode": {
    "name": "ipython",
    "version": 3
   },
   "file_extension": ".py",
   "mimetype": "text/x-python",
   "name": "python",
   "nbconvert_exporter": "python",
   "pygments_lexer": "ipython3",
   "version": "3.11.1"
  }
 },
 "nbformat": 4,
 "nbformat_minor": 5
}
