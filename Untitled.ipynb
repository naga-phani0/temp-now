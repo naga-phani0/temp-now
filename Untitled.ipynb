{
 "cells": [
  {
   "cell_type": "code",
   "execution_count": 1,
   "id": "bb60b830",
   "metadata": {},
   "outputs": [
    {
     "data": {
      "text/plain": [
       "array(['and', 'document', 'first', 'is', 'one', 'second', 'the', 'third',\n",
       "       'this'], dtype=object)"
      ]
     },
     "execution_count": 1,
     "metadata": {},
     "output_type": "execute_result"
    }
   ],
   "source": [
    "from sklearn.feature_extraction.text import CountVectorizer\n",
    "\n",
    "corpus = [\n",
    "     'This is the first document.',\n",
    "     'This document is the second document.',\n",
    "     'And this is the third one.',\n",
    "     'Is this the first document?',\n",
    "]\n",
    "\n",
    "vectorizer = CountVectorizer()\n",
    "\n",
    "X = vectorizer.fit_transform(corpus)\n",
    "vectorizer.get_feature_names_out()"
   ]
  },
  {
   "cell_type": "code",
   "execution_count": 43,
   "id": "6c0ee0bd",
   "metadata": {},
   "outputs": [
    {
     "ename": "SyntaxError",
     "evalue": "invalid syntax (1193594894.py, line 20)",
     "output_type": "error",
     "traceback": [
      "\u001b[1;36m  Cell \u001b[1;32mIn[43], line 20\u001b[1;36m\u001b[0m\n\u001b[1;33m    email = ''aliashhar3@gmail.com''\u001b[0m\n\u001b[1;37m              ^\u001b[0m\n\u001b[1;31mSyntaxError\u001b[0m\u001b[1;31m:\u001b[0m invalid syntax\n"
     ]
    }
   ],
   "source": [
    "import re\n",
    "regex = '^[a-z0-9]+[\\._]?[a-z0-9]+[@]\\w+[.]\\w{2,3}$'  \n",
    "  \n",
    "def check(email):\n",
    "  \n",
    "    if(re.search(regex,''.join(email.split()))):   \n",
    "        print(''.join(email.split()))\n",
    "        print(\"Valid Email\")   \n",
    "    else:   \n",
    "        print(\"Invalid Email\")   \n",
    "      \n",
    "if __name__ == '__main__':\n",
    "    \n",
    "    #email = \"rohit.gupta@mcnsolutions.net\"\n",
    "    #check(email)   \n",
    "  \n",
    " #   email = \"praveen@c-sharpcorner.com\"\n",
    "  #  check(email)   \n",
    "  \n",
    "    email = 'aliashhar3@gmail.com'\n",
    "    check(email)"
   ]
  },
  {
   "cell_type": "code",
   "execution_count": 44,
   "id": "6010819d",
   "metadata": {},
   "outputs": [
    {
     "ename": "ModuleNotFoundError",
     "evalue": "No module named 'email_validator'",
     "output_type": "error",
     "traceback": [
      "\u001b[1;31m---------------------------------------------------------------------------\u001b[0m",
      "\u001b[1;31mModuleNotFoundError\u001b[0m                       Traceback (most recent call last)",
      "Cell \u001b[1;32mIn[44], line 1\u001b[0m\n\u001b[1;32m----> 1\u001b[0m \u001b[38;5;28;01mfrom\u001b[39;00m \u001b[38;5;21;01memail_validator\u001b[39;00m \u001b[38;5;28;01mimport\u001b[39;00m validate_email, EmailNotValidError\n",
      "\u001b[1;31mModuleNotFoundError\u001b[0m: No module named 'email_validator'"
     ]
    }
   ],
   "source": [
    "from email_validator import validate_email, EmailNotValidError\n"
   ]
  },
  {
   "cell_type": "code",
   "execution_count": null,
   "id": "099ab9a3",
   "metadata": {},
   "outputs": [],
   "source": []
  }
 ],
 "metadata": {
  "kernelspec": {
   "display_name": "ml_env",
   "language": "python",
   "name": "ml_env"
  },
  "language_info": {
   "codemirror_mode": {
    "name": "ipython",
    "version": 3
   },
   "file_extension": ".py",
   "mimetype": "text/x-python",
   "name": "python",
   "nbconvert_exporter": "python",
   "pygments_lexer": "ipython3",
   "version": "3.11.1"
  }
 },
 "nbformat": 4,
 "nbformat_minor": 5
}
